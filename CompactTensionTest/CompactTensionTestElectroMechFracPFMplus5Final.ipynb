{
 "cells": [
  {
   "cell_type": "code",
   "execution_count": null,
   "id": "frank-charity",
   "metadata": {},
   "outputs": [],
   "source": [
    "using Gmsh: gmsh\n",
    "using GridapGmsh\n",
    "using Gridap\n",
    "using Gridap.TensorValues\n",
    "using PyPlot"
   ]
  },
  {
   "cell_type": "code",
   "execution_count": null,
   "id": "contained-intro",
   "metadata": {
    "scrolled": true
   },
   "outputs": [],
   "source": [
    "I2 = SymTensorValue{2,Float64}(1.0 ,0.0 ,1.0)\n",
    "I4 = I2⊗I2\n",
    "I4_sym = one(SymFourthOrderTensorValue{2,Float64})\n",
    "I4_vol = (1.0/2)*I4\n",
    "I4_dev = I4_sym  - I4_vol"
   ]
  },
  {
   "cell_type": "code",
   "execution_count": null,
   "id": "municipal-incentive",
   "metadata": {
    "scrolled": true
   },
   "outputs": [],
   "source": [
    "const L = 25.5      #Length\n",
    "const H = 19.1      #Height\n",
    "const Lu = 4.6      #offset of load from left end\n",
    "const Lh = 11.5     #notch length\n",
    "const lsp = 0.08    #length factor\n",
    "const CP = H/2      #center height  \n",
    "const CH = 0.46     #Crack height\n",
    "const hf = 0.06/2.1    #finer mesh size\n",
    "const hfc = 0.06/50    #finer mesh size\n",
    "const h = 60*hf     #coarser mesh size\n",
    "const Lw = 2*h         #load width\n",
    "const FMR = CH/2 \n",
    "\n",
    "gmsh.initialize()\n",
    "gmsh.option.setNumber(\"General.Terminal\", 1)\n",
    "p1 = gmsh.model.geo.addPoint(0.0, 0.0, 0.0, h)  \n",
    "p2 = gmsh.model.geo.addPoint(Lu-0.5*Lw, 0.0, 0.0, h)\n",
    "p3 = gmsh.model.geo.addPoint(Lu+0.5*Lw, 0.0, 0.0, h) \n",
    "p4 = gmsh.model.geo.addPoint(L, 0, 0.0, h) \n",
    "p5 = gmsh.model.geo.addPoint(L, H, 0.0, h)\n",
    "p6 = gmsh.model.geo.addPoint(Lu+0.5*Lw, H, 0.0, h)\n",
    "p7 = gmsh.model.geo.addPoint(Lu-0.5*Lw, H, 0.0, h)\n",
    "p8 = gmsh.model.geo.addPoint(0, H, 0.0, h)\n",
    "p9 = gmsh.model.geo.addPoint(0, CP + (CH*0.5), 0.0, h)\n",
    "p10 = gmsh.model.geo.addPoint(Lh-(CH*0.5), CP + (CH*0.5), 0.0, h)\n",
    "p11 = gmsh.model.geo.addPoint(Lh, CP, 0.0, hfc)\n",
    "p12 = gmsh.model.geo.addPoint(Lh-(CH*0.5), CP - (CH*0.5), 0.0, h)\n",
    "p13 = gmsh.model.geo.addPoint(0, CP - (CH*0.5), 0.0, h)\n",
    "\n",
    "pp14 = gmsh.model.geo.addPoint(L, CP, 0.0, h)\n",
    "\n",
    "l1 = gmsh.model.geo.addLine(p1, p2)\n",
    "l2 = gmsh.model.geo.addLine(p2, p3)\n",
    "l3 = gmsh.model.geo.addLine(p3, p4)\n",
    "l4 = gmsh.model.geo.addLine(p4, p5)\n",
    "l5 = gmsh.model.geo.addLine(p5, p6)\n",
    "l6 = gmsh.model.geo.addLine(p6, p7)\n",
    "l7 = gmsh.model.geo.addLine(p7, p8)\n",
    "l8 = gmsh.model.geo.addLine(p8, p9)\n",
    "l9 = gmsh.model.geo.addLine(p9, p10)\n",
    "l10 = gmsh.model.geo.addLine(p10, p11)\n",
    "l11 = gmsh.model.geo.addLine(p11, p12)\n",
    "l12 = gmsh.model.geo.addLine(p12, p13)\n",
    "l13 = gmsh.model.geo.addLine(p13, p1)\n",
    "\n",
    "ll1 = gmsh.model.geo.addLine(p11, pp14)\n",
    "\n",
    "cl1 = gmsh.model.geo.addCurveLoop([l1,l2,l3,l4,l5,l6,l7,l8,l9,l10,l11,l12,l13])\n",
    "\n",
    "ps1 = gmsh.model.geo.addPlaneSurface([cl1])\n",
    "\n",
    "pg1 = gmsh.model.addPhysicalGroup(2, [ps1])\n",
    "pg2 = gmsh.model.addPhysicalGroup(1, [l2])\n",
    "pg3 = gmsh.model.addPhysicalGroup(1, [l6])\n",
    "pg4 = gmsh.model.addPhysicalGroup(1, [l7,l6,l5])\n",
    "pg5 = gmsh.model.addPhysicalGroup(1, [l1,l2,l3])\n",
    "\n",
    "gmsh.model.setPhysicalName(2, pg1, \"Domain\")\n",
    "gmsh.model.setPhysicalName(1, pg2, \"DirichletBot\")\n",
    "gmsh.model.setPhysicalName(1, pg3, \"DirichletTop\")\n",
    "gmsh.model.setPhysicalName(1, pg4, \"ElectricPotentialTop\")\n",
    "gmsh.model.setPhysicalName(1, pg5, \"ElectricPotentialBot\")\n",
    "\n",
    "gmsh.model.mesh.field.add(\"Box\", 11)\n",
    "gmsh.model.mesh.field.setNumber(11, \"VIn\", hf)\n",
    "gmsh.model.mesh.field.setNumber(11, \"VOut\", h)\n",
    "gmsh.model.mesh.field.setNumber(11, \"XMin\", 0.95*Lh)\n",
    "gmsh.model.mesh.field.setNumber(11, \"XMax\", L)\n",
    "gmsh.model.mesh.field.setNumber(11, \"YMin\", CP-4*FMR)\n",
    "gmsh.model.mesh.field.setNumber(11, \"YMax\", CP+4*FMR)\n",
    "\n",
    "gmsh.model.mesh.field.add(\"Distance\", 1)\n",
    "gmsh.model.mesh.field.setNumbers(1, \"EdgesList\", [ll1])\n",
    "\n",
    "gmsh.model.mesh.field.add(\"Threshold\", 2)\n",
    "gmsh.model.mesh.field.setNumber(2, \"IField\", 1)\n",
    "gmsh.model.mesh.field.setNumber(2, \"LcMin\", hf)\n",
    "gmsh.model.mesh.field.setNumber(2, \"LcMax\", h)\n",
    "gmsh.model.mesh.field.setNumber(2, \"DistMin\", 4*FMR)\n",
    "gmsh.model.mesh.field.setNumber(2, \"DistMax\", 1)\n",
    "\n",
    "gmsh.model.mesh.field.setAsBackgroundMesh(2)\n",
    "\n",
    "gmsh.model.geo.synchronize()\n",
    "gmsh.model.mesh.generate(2)\n",
    "gmsh.write(\"PlateWithEdgeNotch.msh\")\n",
    "gmsh.finalize()"
   ]
  },
  {
   "cell_type": "code",
   "execution_count": null,
   "id": "dangerous-preference",
   "metadata": {},
   "outputs": [],
   "source": [
    "model = GmshDiscreteModel(\"PlateWithEdgeNotch.msh\")\n",
    "writevtk(model,\"PlateWithEdgeNotch\")"
   ]
  },
  {
   "cell_type": "code",
   "execution_count": null,
   "id": "1ccc7309",
   "metadata": {},
   "outputs": [],
   "source": [
    "ElecF = 5\n",
    "phiMaxApp = (ElecF/10)*H*1e3\n",
    "thickness = 5.1"
   ]
  },
  {
   "cell_type": "code",
   "execution_count": null,
   "id": "meaningful-haven",
   "metadata": {
    "scrolled": false
   },
   "outputs": [],
   "source": [
    "using Gridap.Geometry\n",
    "labels = get_face_labeling(model)\n",
    "dimension = 2\n",
    "mat_tags = get_face_tag(labels,dimension)"
   ]
  },
  {
   "cell_type": "code",
   "execution_count": null,
   "id": "forty-hollow",
   "metadata": {},
   "outputs": [],
   "source": [
    "const Mat_tag = get_tag_from_name(labels,\"Domain\")"
   ]
  },
  {
   "cell_type": "code",
   "execution_count": null,
   "id": "healthy-grave",
   "metadata": {},
   "outputs": [],
   "source": [
    "const λ_mat = 77.8e3 \n",
    "const μ_mat = 30.6e3"
   ]
  },
  {
   "cell_type": "code",
   "execution_count": null,
   "id": "otherwise-newman",
   "metadata": {},
   "outputs": [],
   "source": [
    "const K₁₁_mat = 6e-9\n",
    "const K₂₂_mat = 6e-9"
   ]
  },
  {
   "cell_type": "code",
   "execution_count": null,
   "id": "acute-carry",
   "metadata": {},
   "outputs": [],
   "source": [
    "const Gc = 7e-3\n",
    "const η = 1e-10"
   ]
  },
  {
   "cell_type": "code",
   "execution_count": null,
   "id": "conventional-purse",
   "metadata": {},
   "outputs": [],
   "source": [
    "p = VectorValue(0,1)\n",
    "I = [1 0; 0 1]\n",
    "K1 = zeros(2,2,2)\n",
    "K2 = zeros(2,2,2)\n",
    "K3 = zeros(2,2,2)\n",
    "C1 = -6.98e-3\n",
    "C2 = -6.06e-3\n",
    "C3 = 16.00e-3\n",
    "for i = 1:2, j = 1:2, k= 1:2\n",
    "    K1[i,j,k] = p[i]*I[j,k]\n",
    "end\n",
    "for i = 1:2, j = 1:2, k= 1:2\n",
    "    K2[i,j,k] = p[i]*p[j]*p[k]\n",
    "end\n",
    "for i = 1:2, j = 1:2, k= 1:2\n",
    "    K3[i,j,k] = 0.5*(p[j]*I[i,k] + p[k]*I[i,j])\n",
    "end\n",
    "K = C1*K1+C2*K2+C3*K3\n",
    "K[1,:,:]"
   ]
  },
  {
   "cell_type": "code",
   "execution_count": null,
   "id": "located-mobile",
   "metadata": {},
   "outputs": [],
   "source": [
    "vals = zeros(2,2,2);\n",
    "    vals[1,:,:] .= K[1,:,:]\n",
    "    vals[2,:,:] .= K[2,:,:]\n",
    "const e_mat = ThirdOrderTensorValue(vals ...)"
   ]
  },
  {
   "cell_type": "code",
   "execution_count": null,
   "id": "developing-foundation",
   "metadata": {},
   "outputs": [],
   "source": [
    "const K_mat = TensorValue(K₁₁_mat,0.0,0.0, K₁₁_mat)"
   ]
  },
  {
   "cell_type": "code",
   "execution_count": null,
   "id": "built-universe",
   "metadata": {},
   "outputs": [],
   "source": [
    "σ_elas(ε) = λ_mat*tr(ε)*one(ε) + 2*μ_mat*ε\n",
    "\n",
    "function σ_elasMod(ε, ε_in, s_in)  \n",
    " if tr(ε_in)  >= 0\n",
    "      σ = (s_in^2 + η)*σ_elas(ε)\n",
    "  elseif tr(ε_in) < 0\n",
    "      σ = (s_in^2 + η)*I4_dev ⊙ σ_elas(ε) + I4_vol⊙ σ_elas(ε)\n",
    "  end  \n",
    "    return σ\n",
    "end"
   ]
  },
  {
   "cell_type": "code",
   "execution_count": null,
   "id": "bc56b220",
   "metadata": {},
   "outputs": [],
   "source": [
    "σ_piezo(∇) = ∇ ⋅ e_mat\n",
    "\n",
    "σ_piezoMod(∇, ∇_in, s_in) = (s_in^2 + η)*σ_piezo(∇)"
   ]
  },
  {
   "cell_type": "code",
   "execution_count": null,
   "id": "f5be4d33",
   "metadata": {},
   "outputs": [],
   "source": [
    "D_elasMod(ε, ∇_in, s_in) = (s_in^2 + η)*(e_mat ⋅² ε)"
   ]
  },
  {
   "cell_type": "code",
   "execution_count": null,
   "id": "7c9f4d54",
   "metadata": {},
   "outputs": [],
   "source": [
    "D_piezo(∇) = K_mat ⋅ ∇\n",
    "\n",
    "function D_piezoMod(∇, s_in)   \n",
    "    return (s_in^2 + η)*D_piezo(∇)\n",
    "end"
   ]
  },
  {
   "cell_type": "code",
   "execution_count": null,
   "id": "reflected-female",
   "metadata": {},
   "outputs": [],
   "source": [
    "function ψPos(ε_in, ∇_in)   \n",
    " if tr(ε_in) >= 0\n",
    "    ψPlus = 0.5*(ε_in ⊙ σ_elas(ε_in)) + 0.5*(σ_piezo(∇_in) ⊙ ε_in)\n",
    " elseif tr(ε_in) < 0\n",
    "    ψPlus = 0.5*((I4_dev ⊙ σ_elas(ε_in)) ⊙ (I4_dev ⊙ ε_in)) + 0.5*(σ_piezo(∇_in) ⊙ (I4_dev ⊙ ε_in))        \n",
    " end \n",
    "    return ψPlus\n",
    "end"
   ]
  },
  {
   "cell_type": "code",
   "execution_count": null,
   "id": "6fce0388",
   "metadata": {},
   "outputs": [],
   "source": [
    "function new_EnergyState(ψPlusPrev_in,ψhPos_in)\n",
    "  ψPlus_in = ψhPos_in\n",
    "  if ψPlus_in >= ψPlusPrev_in\n",
    "    ψPlus_out = ψPlus_in\n",
    "  else\n",
    "    ψPlus_out = ψPlusPrev_in\n",
    "  end\n",
    "  true,ψPlus_out\n",
    "end"
   ]
  },
  {
   "cell_type": "markdown",
   "id": "spare-throw",
   "metadata": {},
   "source": [
    "## FE formulation"
   ]
  },
  {
   "cell_type": "code",
   "execution_count": null,
   "id": "tough-beast",
   "metadata": {},
   "outputs": [],
   "source": [
    "function project(q,model,dΩ,order)\n",
    "  reffe = ReferenceFE(lagrangian,Float64,order)\n",
    "  V = FESpace(model,reffe,conformity=:L2)\n",
    "  a(u,v) = ∫( u*v )*dΩ\n",
    "  l(v) = ∫( v*q )*dΩ\n",
    "  op = AffineFEOperator(a,l,V,V)\n",
    "  qh = solve(op)\n",
    "  qh\n",
    "end"
   ]
  },
  {
   "cell_type": "code",
   "execution_count": null,
   "id": "french-place",
   "metadata": {},
   "outputs": [],
   "source": [
    "order = 1\n",
    "degree = 2*order"
   ]
  },
  {
   "cell_type": "code",
   "execution_count": null,
   "id": "stuck-parent",
   "metadata": {},
   "outputs": [],
   "source": [
    "Ω = Triangulation(model)\n",
    "dΩ = Measure(Ω,degree)"
   ]
  },
  {
   "cell_type": "code",
   "execution_count": null,
   "id": "focal-alliance",
   "metadata": {},
   "outputs": [],
   "source": [
    "LoadTagId = get_tag_from_name(labels,\"DirichletTop\")\n",
    "Γ_Load = BoundaryTriangulation(model,tags = LoadTagId)\n",
    "dΓ_Load = Measure(Γ_Load,degree)\n",
    "n_Γ_Load = get_normal_vector(Γ_Load)"
   ]
  },
  {
   "cell_type": "code",
   "execution_count": null,
   "id": "incorporated-decade",
   "metadata": {},
   "outputs": [],
   "source": [
    "reffe_PF = ReferenceFE(lagrangian,Float64,order)\n",
    "V0_PF = TestFESpace(model,reffe_PF;\n",
    "  conformity=:H1)\n",
    "U_PF = TrialFESpace(V0_PF)\n",
    "sh = zero(V0_PF)"
   ]
  },
  {
   "cell_type": "code",
   "execution_count": null,
   "id": "victorian-utilization",
   "metadata": {},
   "outputs": [],
   "source": [
    "reffe_Disp = ReferenceFE(lagrangian,VectorValue{2,Float64},order)\n",
    "        V0_Disp = TestFESpace(model,reffe_Disp;\n",
    "          conformity=:H1,\n",
    "          dirichlet_tags=[\"DirichletTop\", \"DirichletBot\"],\n",
    "          dirichlet_masks=[(false,true), (false,true)])\n",
    "\n",
    "uh = zero(V0_Disp)"
   ]
  },
  {
   "cell_type": "code",
   "execution_count": null,
   "id": "unique-iceland",
   "metadata": {},
   "outputs": [],
   "source": [
    "reffe_ElecPot = ReferenceFE(lagrangian,Float64,order)\n",
    "V0_ElecPot  = TestFESpace(model,reffe_ElecPot;\n",
    "  conformity=:H1,\n",
    "  dirichlet_tags=[\"ElectricPotentialTop\",\"ElectricPotentialBot\"])"
   ]
  },
  {
   "cell_type": "code",
   "execution_count": null,
   "id": "accredited-startup",
   "metadata": {},
   "outputs": [],
   "source": [
    "V0 = MultiFieldFESpace([V0_Disp,V0_ElecPot])"
   ]
  },
  {
   "cell_type": "code",
   "execution_count": null,
   "id": "terminal-saint",
   "metadata": {},
   "outputs": [],
   "source": [
    "function  stepPhaseField(uh_in,ψPlusPrev_in)\n",
    "        \n",
    "        a_PF(s,ϕ) = ∫( Gc*lsp*∇(ϕ)⋅ ∇(s) + 2*ψPlusPrev_in*s*ϕ  + (Gc/lsp)*s*ϕ )*dΩ\n",
    "        b_PF(ϕ) = ∫( (Gc/lsp)*ϕ )*dΩ\n",
    "        op_PF = AffineFEOperator(a_PF,b_PF,U_PF,V0_PF)\n",
    "        sh_out = solve(op_PF)           \n",
    "    \n",
    "    return sh_out\n",
    "    \n",
    "end"
   ]
  },
  {
   "cell_type": "code",
   "execution_count": null,
   "id": "broadband-tracker",
   "metadata": {},
   "outputs": [],
   "source": [
    " function   stepDispElecPot(uh_in,phih_in,sh_in,vApp,phiApp)\n",
    "    \n",
    "        uApp1(x) = VectorValue(0.0,vApp)\n",
    "        uApp2(x) = VectorValue(0.0,-vApp)\n",
    "        U_Disp = TrialFESpace(V0_Disp,[uApp1,uApp2])\n",
    "    \n",
    "        phiApp1(x) = 0\n",
    "        phiApp2(x) = phiApp\n",
    "        U_ElecPot = TrialFESpace(V0_ElecPot,[phiApp1,phiApp2])\n",
    "    \n",
    "        U = MultiFieldFESpace([U_Disp,U_ElecPot])\n",
    "    \n",
    "        a((u,ϕ),(v,ψ)) = ∫( (ε(v) ⊙ (σ_elasMod∘(ε(u),ε(uh_in),sh_in))) + (∇(v) ⊙ (σ_piezoMod ∘(∇(ϕ),∇(phih_in),sh_in))) - (∇(ψ)⋅(D_piezoMod∘ (∇(ϕ),sh_in))) + (∇(ψ)⋅(D_elasMod∘(ε(u),∇(phih_in),sh_in))) )*dΩ\n",
    "        b((v,ψ)) = 0.0\n",
    "    \n",
    "        op = AffineFEOperator(a,b,U,V0)\n",
    "        uhPhi = solve(op)\n",
    "        uh_out,phih_out = uhPhi\n",
    "    \n",
    "    return uh_out,phih_out\n",
    "end"
   ]
  },
  {
   "cell_type": "code",
   "execution_count": null,
   "id": "electoral-disability",
   "metadata": {
    "scrolled": true
   },
   "outputs": [],
   "source": [
    "vApp = 0\n",
    "phiApp = 0\n",
    "delv = 1e-4\n",
    "vAppMax = 0.010\n",
    "innerMax = 10\n",
    "count = 0\n",
    "\n",
    "Load = Float64[]\n",
    "Displacement = Float64[]\n",
    "\n",
    "ψPlusPrev = CellState(0.0,dΩ) \n",
    "sPrev = CellState(1.0,dΩ)\n",
    "sh = project(sPrev,model,dΩ,order)\n",
    "ϕPrev = CellState(0.0,dΩ)\n",
    "ϕh = project(ϕPrev,model,dΩ,order)\n",
    "\n",
    "\n",
    "while vApp .< vAppMax \n",
    "    count = count .+ 1\n",
    "    vApp = vApp .+ delv\n",
    "    \n",
    "    if vApp <= 5e-4\n",
    "        phiApp = vApp * (phiMaxApp/5e-4)\n",
    "    else\n",
    "        phiApp = phiMaxApp\n",
    "    end\n",
    "    \n",
    "    if vApp >= 5e-4 && vApp <= 2e-3\n",
    "        delv = 1e-4\n",
    "    elseif vApp >= 2e-3\n",
    "        delv = 1e-4\n",
    "    end\n",
    "    \n",
    "    print(\"\\n Entering displacemtent step$count :\", float(vApp))\n",
    "    \n",
    "   for inner = 1:innerMax   \n",
    "        \n",
    "        ψhPlusPrev = project(ψPlusPrev,model,dΩ,order)\n",
    "        \n",
    "        RelErr = abs(sum(∫( Gc*lsp*∇(sh)⋅ ∇(sh) + 2*ψhPlusPrev*sh*sh  + (Gc/lsp)*sh*sh)*dΩ - ∫( (Gc/lsp)*sh)*dΩ))/abs(sum(∫( (Gc/lsp)*sh)*dΩ))\n",
    "        print(\"\\n Relative error = \",float(RelErr))\n",
    "        \n",
    "        sh = stepPhaseField(uh,ψhPlusPrev) \n",
    "        uh,ϕh = stepDispElecPot(uh,ϕh,sh,vApp,phiApp)\n",
    "        \n",
    "        ψhPos_in = ψPos∘(ε(uh),∇(ϕh))      \n",
    "        \n",
    "        update_state!(new_EnergyState,ψPlusPrev,ψhPos_in)\n",
    "  \n",
    "        if RelErr < 1e-8\n",
    "            break \n",
    "        end      \n",
    "    end\n",
    "    \n",
    "    Node_Force = sum(∫( n_Γ_Load ⋅ (σ_elasMod∘(ε(uh),ε(uh),sh)) ) *dΓ_Load + ∫( n_Γ_Load ⋅ (σ_piezoMod∘(∇(ϕh),∇(ϕh),sh) ) )  *dΓ_Load)\n",
    "    \n",
    "    push!(Load, thickness*Node_Force[2])\n",
    "    push!(Displacement, vApp)\n",
    "    if mod(count,2) == 0\n",
    "         writevtk(Ω,\"results_NotchedPlate$count\",cellfields=\n",
    "        [\"uh\"=>uh,\"s\"=>sh ,\"phi\"=>ϕh, \"epsi\"=>ε(uh)])\n",
    "    end\n",
    "end"
   ]
  },
  {
   "cell_type": "code",
   "execution_count": null,
   "id": "disabled-stone",
   "metadata": {},
   "outputs": [],
   "source": [
    " writevtk(Ω,\"results_NotchedPlate$count\",cellfields=\n",
    "        [\"uh\"=>uh,\"s\"=>sh ,\"phi\"=>ϕh, \"epsi\"=>ε(uh)])"
   ]
  },
  {
   "cell_type": "code",
   "execution_count": null,
   "id": "colonial-infection",
   "metadata": {
    "scrolled": true
   },
   "outputs": [],
   "source": [
    "plot(Displacement,Load)"
   ]
  }
 ],
 "metadata": {
  "@webio": {
   "lastCommId": null,
   "lastKernelId": null
  },
  "kernelspec": {
   "display_name": "Julia 1.5.3",
   "language": "julia",
   "name": "julia-1.5"
  },
  "language_info": {
   "file_extension": ".jl",
   "mimetype": "application/julia",
   "name": "julia",
   "version": "1.5.3"
  }
 },
 "nbformat": 4,
 "nbformat_minor": 5
}
