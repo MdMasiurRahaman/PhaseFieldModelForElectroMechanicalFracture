{
 "cells": [
  {
   "cell_type": "code",
   "execution_count": 1,
   "id": "frank-charity",
   "metadata": {},
   "outputs": [],
   "source": [
    "using Gmsh: gmsh\n",
    "using Gridap\n",
    "using GridapGmsh"
   ]
  },
  {
   "cell_type": "code",
   "execution_count": 2,
   "id": "municipal-incentive",
   "metadata": {
    "scrolled": true
   },
   "outputs": [
    {
     "name": "stdout",
     "output_type": "stream",
     "text": [
      "Info    : Meshing 1D...\n",
      "Info    : Meshing curve 1 (Line)\n",
      "Info    : Meshing curve 2 (Line)\n",
      "Info    : Meshing curve 3 (Line)\n",
      "Info    : Meshing curve 4 (Line)\n",
      "Info    : Meshing curve 5 (Line)\n",
      "Info    : Meshing curve 6 (Line)\n",
      "Info    : Meshing curve 7 (Line)\n",
      "Info    : Meshing curve 8 (Line)\n",
      "Info    : Meshing curve 9 (Line)\n",
      "Info    : Meshing curve 10 (Line)\n",
      "Info    : Meshing curve 11 (Line)\n",
      "Info    : Meshing curve 12 (Line)\n",
      "Info    : Meshing curve 13 (Line)\n",
      "Info    : Meshing curve 14 (Line)\n",
      "Info    : Done meshing 1D (0.009476 s)\n",
      "Info    : Meshing 2D...\n",
      "Info    : Meshing surface 1 (Plane, Delaunay)\n",
      "Info    : Done meshing 2D (1.01656 s)\n",
      "Info    : 34436 vertices 68375 elements\n",
      "Info    : Writing 'PlateWithEdgeNotch.msh'...\n",
      "Info    : Done writing 'PlateWithEdgeNotch.msh'\n"
     ]
    }
   ],
   "source": [
    "const L = 25.5      #Length\n",
    "const H = 19.1      #Height\n",
    "const Lu = 4.6      #offset of load from left end\n",
    "const Lh = 11.5     #notch length\n",
    "const lsp = 0.08    #length factor\n",
    "const CP = H/2      #center height  \n",
    "const CH = 0.46     #Crack height\n",
    "const hf = 0.06/2.1    #finer mesh size\n",
    "const hfc = 0.06/50    #finer mesh size\n",
    "const h = 60*hf     #coarser mesh size\n",
    "const Lw = 2*h         #load width\n",
    "const FMR = CH/2 \n",
    "\n",
    "gmsh.initialize()\n",
    "gmsh.option.setNumber(\"General.Terminal\", 1)\n",
    "p1 = gmsh.model.geo.addPoint(0.0, 0.0, 0.0, h)  \n",
    "p2 = gmsh.model.geo.addPoint(Lu-0.5*Lw, 0.0, 0.0, h)\n",
    "p3 = gmsh.model.geo.addPoint(Lu+0.5*Lw, 0.0, 0.0, h) \n",
    "p4 = gmsh.model.geo.addPoint(L, 0, 0.0, h) \n",
    "p5 = gmsh.model.geo.addPoint(L, H, 0.0, h)\n",
    "p6 = gmsh.model.geo.addPoint(Lu+0.5*Lw, H, 0.0, h)\n",
    "p7 = gmsh.model.geo.addPoint(Lu-0.5*Lw, H, 0.0, h)\n",
    "p8 = gmsh.model.geo.addPoint(0, H, 0.0, h)\n",
    "p9 = gmsh.model.geo.addPoint(0, CP + (CH*0.5), 0.0, h)\n",
    "p10 = gmsh.model.geo.addPoint(Lh-(CH*0.5), CP + (CH*0.5), 0.0, h)\n",
    "p11 = gmsh.model.geo.addPoint(Lh, CP, 0.0, hfc)\n",
    "p12 = gmsh.model.geo.addPoint(Lh-(CH*0.5), CP - (CH*0.5), 0.0, h)\n",
    "p13 = gmsh.model.geo.addPoint(0, CP - (CH*0.5), 0.0, h)\n",
    "\n",
    "pp14 = gmsh.model.geo.addPoint(L, CP, 0.0, h)\n",
    "\n",
    "l1 = gmsh.model.geo.addLine(p1, p2)\n",
    "l2 = gmsh.model.geo.addLine(p2, p3)\n",
    "l3 = gmsh.model.geo.addLine(p3, p4)\n",
    "l4 = gmsh.model.geo.addLine(p4, p5)\n",
    "l5 = gmsh.model.geo.addLine(p5, p6)\n",
    "l6 = gmsh.model.geo.addLine(p6, p7)\n",
    "l7 = gmsh.model.geo.addLine(p7, p8)\n",
    "l8 = gmsh.model.geo.addLine(p8, p9)\n",
    "l9 = gmsh.model.geo.addLine(p9, p10)\n",
    "l10 = gmsh.model.geo.addLine(p10, p11)\n",
    "l11 = gmsh.model.geo.addLine(p11, p12)\n",
    "l12 = gmsh.model.geo.addLine(p12, p13)\n",
    "l13 = gmsh.model.geo.addLine(p13, p1)\n",
    "\n",
    "ll1 = gmsh.model.geo.addLine(p11, pp14)\n",
    "\n",
    "cl1 = gmsh.model.geo.addCurveLoop([l1,l2,l3,l4,l5,l6,l7,l8,l9,l10,l11,l12,l13])\n",
    "\n",
    "ps1 = gmsh.model.geo.addPlaneSurface([cl1])\n",
    "\n",
    "pg1 = gmsh.model.addPhysicalGroup(2, [ps1])\n",
    "pg2 = gmsh.model.addPhysicalGroup(1, [l2])\n",
    "pg3 = gmsh.model.addPhysicalGroup(1, [l6])\n",
    "pg4 = gmsh.model.addPhysicalGroup(1, [l7,l6,l5])\n",
    "pg5 = gmsh.model.addPhysicalGroup(1, [l1,l2,l3])\n",
    "\n",
    "gmsh.model.setPhysicalName(2, pg1, \"Domain\")\n",
    "gmsh.model.setPhysicalName(1, pg2, \"DirichletBot\")\n",
    "gmsh.model.setPhysicalName(1, pg3, \"DirichletTop\")\n",
    "gmsh.model.setPhysicalName(1, pg4, \"ElectricPotentialTop\")\n",
    "gmsh.model.setPhysicalName(1, pg5, \"ElectricPotentialBot\")\n",
    "\n",
    "gmsh.model.mesh.field.add(\"Box\", 11)\n",
    "gmsh.model.mesh.field.setNumber(11, \"VIn\", hf)\n",
    "gmsh.model.mesh.field.setNumber(11, \"VOut\", h)\n",
    "gmsh.model.mesh.field.setNumber(11, \"XMin\", 0.95*Lh)\n",
    "gmsh.model.mesh.field.setNumber(11, \"XMax\", L)\n",
    "gmsh.model.mesh.field.setNumber(11, \"YMin\", CP-4*FMR)\n",
    "gmsh.model.mesh.field.setNumber(11, \"YMax\", CP+4*FMR)\n",
    "\n",
    "gmsh.model.mesh.field.add(\"Distance\", 1)\n",
    "gmsh.model.mesh.field.setNumbers(1, \"EdgesList\", [ll1])\n",
    "\n",
    "gmsh.model.mesh.field.add(\"Threshold\", 2)\n",
    "gmsh.model.mesh.field.setNumber(2, \"IField\", 1)\n",
    "gmsh.model.mesh.field.setNumber(2, \"LcMin\", hf)\n",
    "gmsh.model.mesh.field.setNumber(2, \"LcMax\", h)\n",
    "gmsh.model.mesh.field.setNumber(2, \"DistMin\", 4*FMR)\n",
    "gmsh.model.mesh.field.setNumber(2, \"DistMax\", 1)\n",
    "\n",
    "gmsh.model.mesh.field.setAsBackgroundMesh(2)\n",
    "\n",
    "gmsh.model.geo.synchronize()\n",
    "gmsh.model.mesh.generate(2)\n",
    "gmsh.write(\"PlateWithEdgeNotch.msh\")\n",
    "gmsh.finalize()"
   ]
  },
  {
   "cell_type": "code",
   "execution_count": 3,
   "id": "dangerous-preference",
   "metadata": {},
   "outputs": [
    {
     "name": "stdout",
     "output_type": "stream",
     "text": [
      "Info    : Reading 'PlateWithEdgeNotch.msh'...\n",
      "Info    : 29 entities\n",
      "Info    : 33927 nodes\n",
      "Info    : 67748 elements\n",
      "Info    : Done reading 'PlateWithEdgeNotch.msh'\n"
     ]
    },
    {
     "data": {
      "text/plain": [
       "3-element Array{Array{String,1},1}:\n",
       " [\"PlateWithEdgeNotch_0.vtu\"]\n",
       " [\"PlateWithEdgeNotch_1.vtu\"]\n",
       " [\"PlateWithEdgeNotch_2.vtu\"]"
      ]
     },
     "execution_count": 3,
     "metadata": {},
     "output_type": "execute_result"
    }
   ],
   "source": [
    "model = GmshDiscreteModel(\"PlateWithEdgeNotch.msh\")\n",
    "writevtk(model,\"PlateWithEdgeNotch\")"
   ]
  }
 ],
 "metadata": {
  "@webio": {
   "lastCommId": null,
   "lastKernelId": null
  },
  "kernelspec": {
   "display_name": "Julia 1.5.3",
   "language": "julia",
   "name": "julia-1.5"
  },
  "language_info": {
   "file_extension": ".jl",
   "mimetype": "application/julia",
   "name": "julia",
   "version": "1.5.3"
  }
 },
 "nbformat": 4,
 "nbformat_minor": 5
}
